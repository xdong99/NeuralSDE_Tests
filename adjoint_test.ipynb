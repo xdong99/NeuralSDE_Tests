{
 "cells": [
  {
   "cell_type": "markdown",
   "metadata": {},
   "source": [
    "## Trying to test how AdjointSDE works"
   ]
  },
  {
   "cell_type": "code",
   "execution_count": 7,
   "metadata": {},
   "outputs": [],
   "source": [
    "import torchsde\n",
    "import torchsde._core.adjoint_sde as adjoint_sde"
   ]
  },
  {
   "cell_type": "code",
   "execution_count": 8,
   "metadata": {},
   "outputs": [],
   "source": [
    "import matplotlib.pyplot as plt\n",
    "import torch\n",
    "import torch.optim.swa_utils as swa_utils\n",
    "import torchcde\n",
    "import tqdm\n",
    "\n",
    "import time"
   ]
  },
  {
   "cell_type": "code",
   "execution_count": 9,
   "metadata": {},
   "outputs": [
    {
     "ename": "TypeError",
     "evalue": "AdjointSDE.__init__() missing 2 required positional arguments: 'params' and 'shapes'",
     "output_type": "error",
     "traceback": [
      "\u001b[1;31m---------------------------------------------------------------------------\u001b[0m",
      "\u001b[1;31mTypeError\u001b[0m                                 Traceback (most recent call last)",
      "\u001b[1;32mc:\\Users\\XavierDong\\OneDrive - student.mtsac.edu\\UW-Madison\\2023 Research\\NeuralSDE_Tests\\adjoint_test.ipynb Cell 4\u001b[0m line \u001b[0;36m1\n\u001b[0;32m     <a href='vscode-notebook-cell:/c%3A/Users/XavierDong/OneDrive%20-%20student.mtsac.edu/UW-Madison/2023%20Research/NeuralSDE_Tests/adjoint_test.ipynb#W2sZmlsZQ%3D%3D?line=15'>16</a>\u001b[0m         \u001b[39mreturn\u001b[39;00m \u001b[39mself\u001b[39m\u001b[39m.\u001b[39msigma\u001b[39m.\u001b[39mexpand(y\u001b[39m.\u001b[39msize(\u001b[39m0\u001b[39m), \u001b[39m1\u001b[39m, \u001b[39m1\u001b[39m) \u001b[39m*\u001b[39m (\u001b[39m2\u001b[39m \u001b[39m*\u001b[39m t \u001b[39m/\u001b[39m t_size)\n\u001b[0;32m     <a href='vscode-notebook-cell:/c%3A/Users/XavierDong/OneDrive%20-%20student.mtsac.edu/UW-Madison/2023%20Research/NeuralSDE_Tests/adjoint_test.ipynb#W2sZmlsZQ%3D%3D?line=17'>18</a>\u001b[0m ou_sde \u001b[39m=\u001b[39m OrnsteinUhlenbeckSDE(mu\u001b[39m=\u001b[39m\u001b[39m0.02\u001b[39m, theta\u001b[39m=\u001b[39m\u001b[39m0.1\u001b[39m, sigma\u001b[39m=\u001b[39m\u001b[39m0.4\u001b[39m)\u001b[39m.\u001b[39mto(\u001b[39m'\u001b[39m\u001b[39mcuda\u001b[39m\u001b[39m'\u001b[39m)\n\u001b[1;32m---> <a href='vscode-notebook-cell:/c%3A/Users/XavierDong/OneDrive%20-%20student.mtsac.edu/UW-Madison/2023%20Research/NeuralSDE_Tests/adjoint_test.ipynb#W2sZmlsZQ%3D%3D?line=18'>19</a>\u001b[0m adjoint_sde\u001b[39m.\u001b[39mAdjointSDE(ou_sde)\n",
      "\u001b[1;31mTypeError\u001b[0m: AdjointSDE.__init__() missing 2 required positional arguments: 'params' and 'shapes'"
     ]
    }
   ],
   "source": [
    "class OrnsteinUhlenbeckSDE(torch.nn.Module):\n",
    "    sde_type = 'ito'\n",
    "    noise_type = 'scalar'\n",
    "\n",
    "    def __init__(self, mu, theta, sigma):\n",
    "        super().__init__()\n",
    "        self.register_buffer('mu', torch.as_tensor(mu))\n",
    "        self.register_buffer('theta', torch.as_tensor(theta))\n",
    "        self.register_buffer('sigma', torch.as_tensor(sigma))\n",
    "\n",
    "    def f(self, t, y):\n",
    "        return self.mu * t - self.theta * y\n",
    "\n",
    "    def g(self, t, y):\n",
    "        t_size = 64\n",
    "        return self.sigma.expand(y.size(0), 1, 1) * (2 * t / t_size)\n",
    "\n",
    "ou_sde = OrnsteinUhlenbeckSDE(mu=0.02, theta=0.1, sigma=0.4).to('cuda')\n",
    "adjoint_sde.AdjointSDE(ou_sde)"
   ]
  },
  {
   "cell_type": "code",
   "execution_count": null,
   "metadata": {},
   "outputs": [],
   "source": []
  }
 ],
 "metadata": {
  "kernelspec": {
   "display_name": "Madison",
   "language": "python",
   "name": "python3"
  },
  "language_info": {
   "codemirror_mode": {
    "name": "ipython",
    "version": 3
   },
   "file_extension": ".py",
   "mimetype": "text/x-python",
   "name": "python",
   "nbconvert_exporter": "python",
   "pygments_lexer": "ipython3",
   "version": "3.11.5"
  }
 },
 "nbformat": 4,
 "nbformat_minor": 2
}
